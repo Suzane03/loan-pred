{
 "cells": [
  {
   "cell_type": "markdown",
   "id": "stone-passion",
   "metadata": {},
   "source": [
    "# Machine Learning Model Dev"
   ]
  },
  {
   "cell_type": "markdown",
   "id": "organizational-sender",
   "metadata": {},
   "source": [
    "---"
   ]
  },
  {
   "cell_type": "markdown",
   "id": "african-convergence",
   "metadata": {},
   "source": [
    "## Import packages"
   ]
  },
  {
   "cell_type": "markdown",
   "id": "unavailable-military",
   "metadata": {},
   "source": [
    "There are some packages for doing descriptive analytics as follows:\n",
    "- **pandas**: for data manipulation\n",
    "- **numpy**: for linear algebra calculation\n",
    "- **matplotlib**: for data visualization\n",
    "- **seaborn**: for data manipulation\n",
    "- **plotnine**: for data manipulation\n",
    "\n",
    "**Note**: that there are more than one package used for making a data visualization. The `plotnine` can be your choice if you are familiar with `ggplot2` on R programming. It will create your visualization beautifully"
   ]
  },
  {
   "cell_type": "code",
   "execution_count": 141,
   "id": "undefined-guide",
   "metadata": {},
   "outputs": [],
   "source": [
    "# Dataframe manipulation\n",
    "import pandas as pd\n",
    "\n",
    "# Linear algebra\n",
    "import numpy as np\n",
    "\n",
    "# Data visualization with plotnine\n",
    "from plotnine import *\n",
    "import plotnine\n",
    "\n",
    "# Data visualization with matplotlib\n",
    "import matplotlib.pyplot as plt\n",
    "\n",
    "# Data partitioning\n",
    "from sklearn.model_selection import train_test_split\n",
    "from sklearn.model_selection import KFold\n",
    "\n",
    "# Grid-search\n",
    "from sklearn.model_selection import GridSearchCV\n",
    "\n",
    "# Evaluation metrics\n",
    "from sklearn.metrics import accuracy_score, f1_score, precision_score, recall_score\n",
    "from sklearn.metrics import make_scorer\n",
    "\n",
    "# XGBoost model\n",
    "import xgboost as xgb\n",
    "\n",
    "# Save the model\n",
    "import joblib"
   ]
  },
  {
   "cell_type": "code",
   "execution_count": 1,
   "id": "infrared-scout",
   "metadata": {},
   "outputs": [],
   "source": [
    "# Ignore warnings\n",
    "import warnings\n",
    "warnings.filterwarnings('ignore', category = FutureWarning)"
   ]
  },
  {
   "cell_type": "markdown",
   "id": "flush-brand",
   "metadata": {},
   "source": [
    "## Import data set"
   ]
  },
  {
   "cell_type": "markdown",
   "id": "standard-property",
   "metadata": {},
   "source": [
    "After importing the data set into Python, the `df_train` is now our data frame. The data frame has a lot of functions and methods that will create spesific outputs about the characteristic of data frame. The method of `columns` will print out all the column names."
   ]
  },
  {
   "cell_type": "markdown",
   "id": "cellular-shower",
   "metadata": {},
   "source": [
    "### Training set"
   ]
  },
  {
   "cell_type": "code",
   "execution_count": 143,
   "id": "subjective-truth",
   "metadata": {},
   "outputs": [],
   "source": [
    "# Import the training set\n",
    "df_train = pd.read_csv(\n",
    "    filepath_or_buffer = 'https://raw.githubusercontent.com/dphi-official/Datasets/master/Loan_Data/loan_train.csv',\n",
    "    usecols = [i for i in range(1, 14)]\n",
    ")"
   ]
  },
  {
   "cell_type": "code",
   "execution_count": 144,
   "id": "collect-pointer",
   "metadata": {},
   "outputs": [
    {
     "name": "stdout",
     "output_type": "stream",
     "text": [
      "Data dimension: 491 rows and 13 columns\n"
     ]
    },
    {
     "data": {
      "text/html": [
       "<div>\n",
       "<style scoped>\n",
       "    .dataframe tbody tr th:only-of-type {\n",
       "        vertical-align: middle;\n",
       "    }\n",
       "\n",
       "    .dataframe tbody tr th {\n",
       "        vertical-align: top;\n",
       "    }\n",
       "\n",
       "    .dataframe thead th {\n",
       "        text-align: right;\n",
       "    }\n",
       "</style>\n",
       "<table border=\"1\" class=\"dataframe\">\n",
       "  <thead>\n",
       "    <tr style=\"text-align: right;\">\n",
       "      <th></th>\n",
       "      <th>Loan_ID</th>\n",
       "      <th>Gender</th>\n",
       "      <th>Married</th>\n",
       "      <th>Dependents</th>\n",
       "      <th>Education</th>\n",
       "      <th>Self_Employed</th>\n",
       "      <th>ApplicantIncome</th>\n",
       "      <th>CoapplicantIncome</th>\n",
       "      <th>LoanAmount</th>\n",
       "      <th>Loan_Amount_Term</th>\n",
       "      <th>Credit_History</th>\n",
       "      <th>Property_Area</th>\n",
       "      <th>Loan_Status</th>\n",
       "    </tr>\n",
       "  </thead>\n",
       "  <tbody>\n",
       "    <tr>\n",
       "      <th>0</th>\n",
       "      <td>LP002305</td>\n",
       "      <td>Female</td>\n",
       "      <td>No</td>\n",
       "      <td>0</td>\n",
       "      <td>Graduate</td>\n",
       "      <td>No</td>\n",
       "      <td>4547</td>\n",
       "      <td>0.0</td>\n",
       "      <td>115.0</td>\n",
       "      <td>360.0</td>\n",
       "      <td>1.0</td>\n",
       "      <td>Semiurban</td>\n",
       "      <td>1</td>\n",
       "    </tr>\n",
       "    <tr>\n",
       "      <th>1</th>\n",
       "      <td>LP001715</td>\n",
       "      <td>Male</td>\n",
       "      <td>Yes</td>\n",
       "      <td>3+</td>\n",
       "      <td>Not Graduate</td>\n",
       "      <td>Yes</td>\n",
       "      <td>5703</td>\n",
       "      <td>0.0</td>\n",
       "      <td>130.0</td>\n",
       "      <td>360.0</td>\n",
       "      <td>1.0</td>\n",
       "      <td>Rural</td>\n",
       "      <td>1</td>\n",
       "    </tr>\n",
       "    <tr>\n",
       "      <th>2</th>\n",
       "      <td>LP002086</td>\n",
       "      <td>Female</td>\n",
       "      <td>Yes</td>\n",
       "      <td>0</td>\n",
       "      <td>Graduate</td>\n",
       "      <td>No</td>\n",
       "      <td>4333</td>\n",
       "      <td>2451.0</td>\n",
       "      <td>110.0</td>\n",
       "      <td>360.0</td>\n",
       "      <td>1.0</td>\n",
       "      <td>Urban</td>\n",
       "      <td>0</td>\n",
       "    </tr>\n",
       "    <tr>\n",
       "      <th>3</th>\n",
       "      <td>LP001136</td>\n",
       "      <td>Male</td>\n",
       "      <td>Yes</td>\n",
       "      <td>0</td>\n",
       "      <td>Not Graduate</td>\n",
       "      <td>Yes</td>\n",
       "      <td>4695</td>\n",
       "      <td>0.0</td>\n",
       "      <td>96.0</td>\n",
       "      <td>NaN</td>\n",
       "      <td>1.0</td>\n",
       "      <td>Urban</td>\n",
       "      <td>1</td>\n",
       "    </tr>\n",
       "    <tr>\n",
       "      <th>4</th>\n",
       "      <td>LP002529</td>\n",
       "      <td>Male</td>\n",
       "      <td>Yes</td>\n",
       "      <td>2</td>\n",
       "      <td>Graduate</td>\n",
       "      <td>No</td>\n",
       "      <td>6700</td>\n",
       "      <td>1750.0</td>\n",
       "      <td>230.0</td>\n",
       "      <td>300.0</td>\n",
       "      <td>1.0</td>\n",
       "      <td>Semiurban</td>\n",
       "      <td>1</td>\n",
       "    </tr>\n",
       "  </tbody>\n",
       "</table>\n",
       "</div>"
      ],
      "text/plain": [
       "    Loan_ID  Gender Married Dependents     Education Self_Employed  \\\n",
       "0  LP002305  Female      No          0      Graduate            No   \n",
       "1  LP001715    Male     Yes         3+  Not Graduate           Yes   \n",
       "2  LP002086  Female     Yes          0      Graduate            No   \n",
       "3  LP001136    Male     Yes          0  Not Graduate           Yes   \n",
       "4  LP002529    Male     Yes          2      Graduate            No   \n",
       "\n",
       "   ApplicantIncome  CoapplicantIncome  LoanAmount  Loan_Amount_Term  \\\n",
       "0             4547                0.0       115.0             360.0   \n",
       "1             5703                0.0       130.0             360.0   \n",
       "2             4333             2451.0       110.0             360.0   \n",
       "3             4695                0.0        96.0               NaN   \n",
       "4             6700             1750.0       230.0             300.0   \n",
       "\n",
       "   Credit_History Property_Area  Loan_Status  \n",
       "0             1.0     Semiurban            1  \n",
       "1             1.0         Rural            1  \n",
       "2             1.0         Urban            0  \n",
       "3             1.0         Urban            1  \n",
       "4             1.0     Semiurban            1  "
      ]
     },
     "execution_count": 144,
     "metadata": {},
     "output_type": "execute_result"
    }
   ],
   "source": [
    "# Data dimension\n",
    "print('Data dimension: {} rows and {} columns'.format(len(df_train), len(df_train.columns)))\n",
    "df_train.head()"
   ]
  },
  {
   "cell_type": "markdown",
   "id": "elegant-recorder",
   "metadata": {},
   "source": [
    "### Testing data"
   ]
  },
  {
   "cell_type": "code",
   "execution_count": 145,
   "id": "surprised-organ",
   "metadata": {},
   "outputs": [],
   "source": [
    "# Import the testing set\n",
    "df_test = pd.read_csv(\n",
    "    filepath_or_buffer = 'https://raw.githubusercontent.com/dphi-official/Datasets/master/Loan_Data/loan_test.csv'\n",
    ")"
   ]
  },
  {
   "cell_type": "code",
   "execution_count": 146,
   "id": "median-retreat",
   "metadata": {
    "scrolled": true
   },
   "outputs": [
    {
     "name": "stdout",
     "output_type": "stream",
     "text": [
      "Data dimension: 123 rows and 12 columns\n"
     ]
    },
    {
     "data": {
      "text/html": [
       "<div>\n",
       "<style scoped>\n",
       "    .dataframe tbody tr th:only-of-type {\n",
       "        vertical-align: middle;\n",
       "    }\n",
       "\n",
       "    .dataframe tbody tr th {\n",
       "        vertical-align: top;\n",
       "    }\n",
       "\n",
       "    .dataframe thead th {\n",
       "        text-align: right;\n",
       "    }\n",
       "</style>\n",
       "<table border=\"1\" class=\"dataframe\">\n",
       "  <thead>\n",
       "    <tr style=\"text-align: right;\">\n",
       "      <th></th>\n",
       "      <th>Loan_ID</th>\n",
       "      <th>Gender</th>\n",
       "      <th>Married</th>\n",
       "      <th>Dependents</th>\n",
       "      <th>Education</th>\n",
       "      <th>Self_Employed</th>\n",
       "      <th>ApplicantIncome</th>\n",
       "      <th>CoapplicantIncome</th>\n",
       "      <th>LoanAmount</th>\n",
       "      <th>Loan_Amount_Term</th>\n",
       "      <th>Credit_History</th>\n",
       "      <th>Property_Area</th>\n",
       "    </tr>\n",
       "  </thead>\n",
       "  <tbody>\n",
       "    <tr>\n",
       "      <th>0</th>\n",
       "      <td>LP001116</td>\n",
       "      <td>Male</td>\n",
       "      <td>No</td>\n",
       "      <td>0</td>\n",
       "      <td>Not Graduate</td>\n",
       "      <td>No</td>\n",
       "      <td>3748</td>\n",
       "      <td>1668.0</td>\n",
       "      <td>110.0</td>\n",
       "      <td>360.0</td>\n",
       "      <td>1.0</td>\n",
       "      <td>Semiurban</td>\n",
       "    </tr>\n",
       "    <tr>\n",
       "      <th>1</th>\n",
       "      <td>LP001488</td>\n",
       "      <td>Male</td>\n",
       "      <td>Yes</td>\n",
       "      <td>3+</td>\n",
       "      <td>Graduate</td>\n",
       "      <td>No</td>\n",
       "      <td>4000</td>\n",
       "      <td>7750.0</td>\n",
       "      <td>290.0</td>\n",
       "      <td>360.0</td>\n",
       "      <td>1.0</td>\n",
       "      <td>Semiurban</td>\n",
       "    </tr>\n",
       "    <tr>\n",
       "      <th>2</th>\n",
       "      <td>LP002138</td>\n",
       "      <td>Male</td>\n",
       "      <td>Yes</td>\n",
       "      <td>0</td>\n",
       "      <td>Graduate</td>\n",
       "      <td>No</td>\n",
       "      <td>2625</td>\n",
       "      <td>6250.0</td>\n",
       "      <td>187.0</td>\n",
       "      <td>360.0</td>\n",
       "      <td>1.0</td>\n",
       "      <td>Rural</td>\n",
       "    </tr>\n",
       "    <tr>\n",
       "      <th>3</th>\n",
       "      <td>LP002284</td>\n",
       "      <td>Male</td>\n",
       "      <td>No</td>\n",
       "      <td>0</td>\n",
       "      <td>Not Graduate</td>\n",
       "      <td>No</td>\n",
       "      <td>3902</td>\n",
       "      <td>1666.0</td>\n",
       "      <td>109.0</td>\n",
       "      <td>360.0</td>\n",
       "      <td>1.0</td>\n",
       "      <td>Rural</td>\n",
       "    </tr>\n",
       "    <tr>\n",
       "      <th>4</th>\n",
       "      <td>LP002328</td>\n",
       "      <td>Male</td>\n",
       "      <td>Yes</td>\n",
       "      <td>0</td>\n",
       "      <td>Not Graduate</td>\n",
       "      <td>No</td>\n",
       "      <td>6096</td>\n",
       "      <td>0.0</td>\n",
       "      <td>218.0</td>\n",
       "      <td>360.0</td>\n",
       "      <td>0.0</td>\n",
       "      <td>Rural</td>\n",
       "    </tr>\n",
       "  </tbody>\n",
       "</table>\n",
       "</div>"
      ],
      "text/plain": [
       "    Loan_ID Gender Married Dependents     Education Self_Employed  \\\n",
       "0  LP001116   Male      No          0  Not Graduate            No   \n",
       "1  LP001488   Male     Yes         3+      Graduate            No   \n",
       "2  LP002138   Male     Yes          0      Graduate            No   \n",
       "3  LP002284   Male      No          0  Not Graduate            No   \n",
       "4  LP002328   Male     Yes          0  Not Graduate            No   \n",
       "\n",
       "   ApplicantIncome  CoapplicantIncome  LoanAmount  Loan_Amount_Term  \\\n",
       "0             3748             1668.0       110.0             360.0   \n",
       "1             4000             7750.0       290.0             360.0   \n",
       "2             2625             6250.0       187.0             360.0   \n",
       "3             3902             1666.0       109.0             360.0   \n",
       "4             6096                0.0       218.0             360.0   \n",
       "\n",
       "   Credit_History Property_Area  \n",
       "0             1.0     Semiurban  \n",
       "1             1.0     Semiurban  \n",
       "2             1.0         Rural  \n",
       "3             1.0         Rural  \n",
       "4             0.0         Rural  "
      ]
     },
     "execution_count": 146,
     "metadata": {},
     "output_type": "execute_result"
    }
   ],
   "source": [
    "# Data dimension\n",
    "print('Data dimension: {} rows and {} columns'.format(len(df_test), len(df_test.columns)))\n",
    "df_test.head()"
   ]
  },
  {
   "cell_type": "markdown",
   "id": "urban-township",
   "metadata": {},
   "source": [
    "## Data preprocessing"
   ]
  },
  {
   "cell_type": "markdown",
   "id": "elder-creature",
   "metadata": {},
   "source": [
    "### Training data"
   ]
  },
  {
   "cell_type": "markdown",
   "id": "expected-fountain",
   "metadata": {},
   "source": [
    "#### Scale measurement"
   ]
  },
  {
   "cell_type": "markdown",
   "id": "demographic-enclosure",
   "metadata": {},
   "source": [
    "The method of `info` will show us the metadata or information about the columns in a data frame. It undirectly specifies the scale measurement of a given columns in a data frame. However, it can be misleading. So, we must modify the scale measurement or column types based on column characteristic."
   ]
  },
  {
   "cell_type": "code",
   "execution_count": 147,
   "id": "radical-stroke",
   "metadata": {
    "scrolled": false
   },
   "outputs": [
    {
     "name": "stdout",
     "output_type": "stream",
     "text": [
      "<class 'pandas.core.frame.DataFrame'>\n",
      "RangeIndex: 491 entries, 0 to 490\n",
      "Data columns (total 13 columns):\n",
      " #   Column             Non-Null Count  Dtype  \n",
      "---  ------             --------------  -----  \n",
      " 0   Loan_ID            491 non-null    object \n",
      " 1   Gender             481 non-null    object \n",
      " 2   Married            490 non-null    object \n",
      " 3   Dependents         482 non-null    object \n",
      " 4   Education          491 non-null    object \n",
      " 5   Self_Employed      462 non-null    object \n",
      " 6   ApplicantIncome    491 non-null    int64  \n",
      " 7   CoapplicantIncome  491 non-null    float64\n",
      " 8   LoanAmount         475 non-null    float64\n",
      " 9   Loan_Amount_Term   478 non-null    float64\n",
      " 10  Credit_History     448 non-null    float64\n",
      " 11  Property_Area      491 non-null    object \n",
      " 12  Loan_Status        491 non-null    int64  \n",
      "dtypes: float64(4), int64(2), object(7)\n",
      "memory usage: 50.0+ KB\n"
     ]
    }
   ],
   "source": [
    "# Data frame metadata\n",
    "df_train.info()"
   ]
  },
  {
   "cell_type": "code",
   "execution_count": 148,
   "id": "northern-bulletin",
   "metadata": {},
   "outputs": [
    {
     "data": {
      "text/plain": [
       "Loan_ID           object\n",
       "Gender            object\n",
       "Married           object\n",
       "Dependents        object\n",
       "Education         object\n",
       "Self_Employed     object\n",
       "Credit_History    object\n",
       "Property_Area     object\n",
       "dtype: object"
      ]
     },
     "execution_count": 148,
     "metadata": {},
     "output_type": "execute_result"
    }
   ],
   "source": [
    "# Change column types\n",
    "df_train = df_train.astype({'Credit_History': object, 'Loan_Status': int})\n",
    "df_train.select_dtypes(include = ['object']).dtypes"
   ]
  },
  {
   "cell_type": "code",
   "execution_count": 149,
   "id": "collectible-leave",
   "metadata": {
    "scrolled": true
   },
   "outputs": [
    {
     "name": "stdout",
     "output_type": "stream",
     "text": [
      "LP002097    1\n",
      "LP002720    1\n",
      "LP001673    1\n",
      "LP002161    1\n",
      "LP002494    1\n",
      "           ..\n",
      "LP002842    1\n",
      "LP002693    1\n",
      "LP002961    1\n",
      "LP002446    1\n",
      "LP002335    1\n",
      "Name: Loan_ID, Length: 491, dtype: int64 \n",
      "\n",
      "Male      393\n",
      "Female     88\n",
      "Name: Gender, dtype: int64 \n",
      "\n",
      "Yes    324\n",
      "No     166\n",
      "Name: Married, dtype: int64 \n",
      "\n",
      "0     276\n",
      "1      85\n",
      "2      78\n",
      "3+     43\n",
      "Name: Dependents, dtype: int64 \n",
      "\n",
      "Graduate        388\n",
      "Not Graduate    103\n",
      "Name: Education, dtype: int64 \n",
      "\n",
      "No     398\n",
      "Yes     64\n",
      "Name: Self_Employed, dtype: int64 \n",
      "\n",
      "1.0    380\n",
      "0.0     68\n",
      "Name: Credit_History, dtype: int64 \n",
      "\n",
      "Semiurban    186\n",
      "Urban        155\n",
      "Rural        150\n",
      "Name: Property_Area, dtype: int64 \n",
      "\n"
     ]
    }
   ],
   "source": [
    "# Summary statistics of categorical columns\n",
    "for i in df_train.select_dtypes('object').columns:\n",
    "    print(df_train[i].value_counts(),'\\n')"
   ]
  },
  {
   "cell_type": "markdown",
   "id": "friendly-landscape",
   "metadata": {},
   "source": [
    "#### Handle missing values"
   ]
  },
  {
   "cell_type": "code",
   "execution_count": 150,
   "id": "reported-duration",
   "metadata": {},
   "outputs": [
    {
     "data": {
      "text/plain": [
       "Loan_ID               0\n",
       "Gender               10\n",
       "Married               1\n",
       "Dependents            9\n",
       "Education             0\n",
       "Self_Employed        29\n",
       "ApplicantIncome       0\n",
       "CoapplicantIncome     0\n",
       "LoanAmount           16\n",
       "Loan_Amount_Term     13\n",
       "Credit_History       43\n",
       "Property_Area         0\n",
       "Loan_Status           0\n",
       "dtype: int64"
      ]
     },
     "execution_count": 150,
     "metadata": {},
     "output_type": "execute_result"
    }
   ],
   "source": [
    "# Check missing values\n",
    "df_train.isna().sum()"
   ]
  },
  {
   "cell_type": "markdown",
   "id": "indian-burden",
   "metadata": {},
   "source": [
    "**Note**: Consideration to remove missing values is based on a business logic. The concept of *garbage in garbage out* applies. Without any relevant domain knowledges of loan problem, the interpolation will lead to the biased result.\n",
    "\n",
    "Instead of dropping the missing values brutally, we try to inspect the relevant variables in the data in order to suggest the consideration for the next analysis"
   ]
  },
  {
   "cell_type": "markdown",
   "id": "composed-staff",
   "metadata": {},
   "source": [
    "##### `Dependents`"
   ]
  },
  {
   "cell_type": "code",
   "execution_count": 151,
   "id": "pleasant-mortality",
   "metadata": {},
   "outputs": [
    {
     "name": "stdout",
     "output_type": "stream",
     "text": [
      "Number of missing dependents is about 9 rows\n"
     ]
    }
   ],
   "source": [
    "print('Number of missing dependents is about {} rows'.format(df_train['Dependents'].isna().sum()))"
   ]
  },
  {
   "cell_type": "code",
   "execution_count": 152,
   "id": "prescribed-sarah",
   "metadata": {},
   "outputs": [],
   "source": [
    "# Replace missing valuess with \"0\"\n",
    "df_train['Dependents'].fillna(value = '0', inplace = True) "
   ]
  },
  {
   "cell_type": "markdown",
   "id": "applied-interpretation",
   "metadata": {},
   "source": [
    "##### `Self_Employed`"
   ]
  },
  {
   "cell_type": "code",
   "execution_count": 153,
   "id": "metropolitan-wings",
   "metadata": {},
   "outputs": [
    {
     "name": "stdout",
     "output_type": "stream",
     "text": [
      "Number of missing Self_Employed is about 29 rows\n"
     ]
    }
   ],
   "source": [
    "print('Number of missing Self_Employed is about {} rows'.format(df_train['Self_Employed'].isna().sum()))"
   ]
  },
  {
   "cell_type": "code",
   "execution_count": 154,
   "id": "found-genesis",
   "metadata": {},
   "outputs": [],
   "source": [
    "# Replace missing values with \"No\"\n",
    "df_train['Self_Employed'].fillna(value = 'No', inplace = True) "
   ]
  },
  {
   "cell_type": "markdown",
   "id": "finished-tuner",
   "metadata": {},
   "source": [
    "##### `Loan_Amount_Term`"
   ]
  },
  {
   "cell_type": "code",
   "execution_count": 155,
   "id": "measured-bracelet",
   "metadata": {},
   "outputs": [
    {
     "data": {
      "text/html": [
       "<div>\n",
       "<style scoped>\n",
       "    .dataframe tbody tr th:only-of-type {\n",
       "        vertical-align: middle;\n",
       "    }\n",
       "\n",
       "    .dataframe tbody tr th {\n",
       "        vertical-align: top;\n",
       "    }\n",
       "\n",
       "    .dataframe thead tr th {\n",
       "        text-align: left;\n",
       "    }\n",
       "\n",
       "    .dataframe thead tr:last-of-type th {\n",
       "        text-align: right;\n",
       "    }\n",
       "</style>\n",
       "<table border=\"1\" class=\"dataframe\">\n",
       "  <thead>\n",
       "    <tr>\n",
       "      <th></th>\n",
       "      <th colspan=\"8\" halign=\"left\">Loan_Amount_Term</th>\n",
       "    </tr>\n",
       "    <tr>\n",
       "      <th></th>\n",
       "      <th>count</th>\n",
       "      <th>mean</th>\n",
       "      <th>std</th>\n",
       "      <th>min</th>\n",
       "      <th>25%</th>\n",
       "      <th>50%</th>\n",
       "      <th>75%</th>\n",
       "      <th>max</th>\n",
       "    </tr>\n",
       "    <tr>\n",
       "      <th>Loan_Status</th>\n",
       "      <th></th>\n",
       "      <th></th>\n",
       "      <th></th>\n",
       "      <th></th>\n",
       "      <th></th>\n",
       "      <th></th>\n",
       "      <th></th>\n",
       "      <th></th>\n",
       "    </tr>\n",
       "  </thead>\n",
       "  <tbody>\n",
       "    <tr>\n",
       "      <th>0</th>\n",
       "      <td>143.0</td>\n",
       "      <td>341.790210</td>\n",
       "      <td>73.018891</td>\n",
       "      <td>36.0</td>\n",
       "      <td>360.0</td>\n",
       "      <td>360.0</td>\n",
       "      <td>360.0</td>\n",
       "      <td>480.0</td>\n",
       "    </tr>\n",
       "    <tr>\n",
       "      <th>1</th>\n",
       "      <td>335.0</td>\n",
       "      <td>341.086567</td>\n",
       "      <td>64.320411</td>\n",
       "      <td>12.0</td>\n",
       "      <td>360.0</td>\n",
       "      <td>360.0</td>\n",
       "      <td>360.0</td>\n",
       "      <td>480.0</td>\n",
       "    </tr>\n",
       "  </tbody>\n",
       "</table>\n",
       "</div>"
      ],
      "text/plain": [
       "            Loan_Amount_Term                                             \\\n",
       "                       count        mean        std   min    25%    50%   \n",
       "Loan_Status                                                               \n",
       "0                      143.0  341.790210  73.018891  36.0  360.0  360.0   \n",
       "1                      335.0  341.086567  64.320411  12.0  360.0  360.0   \n",
       "\n",
       "                           \n",
       "               75%    max  \n",
       "Loan_Status                \n",
       "0            360.0  480.0  \n",
       "1            360.0  480.0  "
      ]
     },
     "execution_count": 155,
     "metadata": {},
     "output_type": "execute_result"
    }
   ],
   "source": [
    "df_train[['Loan_Amount_Term', 'Loan_Status']].groupby('Loan_Status').describe()"
   ]
  },
  {
   "cell_type": "code",
   "execution_count": 156,
   "id": "elementary-stroke",
   "metadata": {},
   "outputs": [
    {
     "name": "stdout",
     "output_type": "stream",
     "text": [
      "Percentile 20th: 360.0\n"
     ]
    }
   ],
   "source": [
    "print('Percentile 20th: {}'.format(df_train['Loan_Amount_Term'].quantile(q = 0.2)))"
   ]
  },
  {
   "cell_type": "code",
   "execution_count": 157,
   "id": "burning-cornwall",
   "metadata": {},
   "outputs": [],
   "source": [
    "# Replace missing values with \"360\"\n",
    "df_train['Loan_Amount_Term'].fillna(value = 360, inplace = True)"
   ]
  },
  {
   "cell_type": "markdown",
   "id": "english-cargo",
   "metadata": {},
   "source": [
    "##### `Credit_History`"
   ]
  },
  {
   "cell_type": "code",
   "execution_count": 158,
   "id": "standard-sauce",
   "metadata": {},
   "outputs": [
    {
     "data": {
      "text/html": [
       "<div>\n",
       "<style scoped>\n",
       "    .dataframe tbody tr th:only-of-type {\n",
       "        vertical-align: middle;\n",
       "    }\n",
       "\n",
       "    .dataframe tbody tr th {\n",
       "        vertical-align: top;\n",
       "    }\n",
       "\n",
       "    .dataframe thead th {\n",
       "        text-align: right;\n",
       "    }\n",
       "</style>\n",
       "<table border=\"1\" class=\"dataframe\">\n",
       "  <thead>\n",
       "    <tr style=\"text-align: right;\">\n",
       "      <th></th>\n",
       "      <th>Credit History</th>\n",
       "      <th>No</th>\n",
       "      <th>Yes</th>\n",
       "      <th>All</th>\n",
       "    </tr>\n",
       "  </thead>\n",
       "  <tbody>\n",
       "    <tr>\n",
       "      <th>0</th>\n",
       "      <td>0</td>\n",
       "      <td>62</td>\n",
       "      <td>6</td>\n",
       "      <td>68</td>\n",
       "    </tr>\n",
       "    <tr>\n",
       "      <th>1</th>\n",
       "      <td>1</td>\n",
       "      <td>74</td>\n",
       "      <td>306</td>\n",
       "      <td>380</td>\n",
       "    </tr>\n",
       "  </tbody>\n",
       "</table>\n",
       "</div>"
      ],
      "text/plain": [
       "  Credit History  No  Yes  All\n",
       "0              0  62    6   68\n",
       "1              1  74  306  380"
      ]
     },
     "execution_count": 158,
     "metadata": {},
     "output_type": "execute_result"
    }
   ],
   "source": [
    "# Cross tabulation of credit history and loan status\n",
    "df_cred_hist = pd.crosstab(df_train['Credit_History'], df_train['Loan_Status'], margins = True).reset_index()\n",
    "# Remove index name\n",
    "df_cred_hist.columns.name = None\n",
    "# Remove last row for total column attribute\n",
    "df_cred_hist = df_cred_hist.drop([len(df_cred_hist) - 1], axis = 0)\n",
    "df_cred_hist.rename(columns = {'Credit_History':'Credit History', 0:'No', 1:'Yes'}, inplace = True)\n",
    "df_cred_hist"
   ]
  },
  {
   "cell_type": "code",
   "execution_count": 159,
   "id": "analyzed-setup",
   "metadata": {},
   "outputs": [
    {
     "name": "stdout",
     "output_type": "stream",
     "text": [
      "Number of rows with Loan_Status is No but Credit_History is NaN  : 12\n",
      "Number of rows with Loan_Status is Yes but Credit_History is NaN : 31\n"
     ]
    }
   ],
   "source": [
    "# Slice the data frame based on loan status\n",
    "pos_cred_hist0 = df_train[(df_train['Credit_History'].isna()) & (df_train['Loan_Status'] == 0)]\n",
    "pos_cred_hist1 = df_train[(df_train['Credit_History'].isna()) & (df_train['Loan_Status'] == 1)]\n",
    "print('Number of rows with Loan_Status is No but Credit_History is NaN  : {}'.format(len(pos_cred_hist0)))\n",
    "print('Number of rows with Loan_Status is Yes but Credit_History is NaN : {}'.format(len(pos_cred_hist1)))"
   ]
  },
  {
   "cell_type": "code",
   "execution_count": 160,
   "id": "metric-shield",
   "metadata": {},
   "outputs": [],
   "source": [
    "# Replace the missing values with a specific condition\n",
    "credit_loan = zip(df_train['Credit_History'], df_train['Loan_Status'])\n",
    "df_train['Credit_History'] = [\n",
    "                                0.0 if np.isnan(credit) and status == 0 else\n",
    "                                1.0 if np.isnan(credit) and status == 1 else\n",
    "                                credit for credit, status in credit_loan\n",
    "                             ]"
   ]
  },
  {
   "cell_type": "markdown",
   "id": "unauthorized-growth",
   "metadata": {},
   "source": [
    "##### `Gender` and `Loan Amount`"
   ]
  },
  {
   "cell_type": "code",
   "execution_count": 161,
   "id": "south-amber",
   "metadata": {},
   "outputs": [],
   "source": [
    "# Drop missing values\n",
    "df_train.dropna(axis = 0, how = 'any', inplace = True)"
   ]
  },
  {
   "cell_type": "code",
   "execution_count": 162,
   "id": "applicable-thread",
   "metadata": {},
   "outputs": [
    {
     "data": {
      "text/plain": [
       "Loan_ID              0\n",
       "Gender               0\n",
       "Married              0\n",
       "Dependents           0\n",
       "Education            0\n",
       "Self_Employed        0\n",
       "ApplicantIncome      0\n",
       "CoapplicantIncome    0\n",
       "LoanAmount           0\n",
       "Loan_Amount_Term     0\n",
       "Credit_History       0\n",
       "Property_Area        0\n",
       "Loan_Status          0\n",
       "dtype: int64"
      ]
     },
     "execution_count": 162,
     "metadata": {},
     "output_type": "execute_result"
    }
   ],
   "source": [
    "# Check missing value\n",
    "df_train.isna().sum()"
   ]
  },
  {
   "cell_type": "markdown",
   "id": "sustainable-fence",
   "metadata": {},
   "source": [
    "### Testing data"
   ]
  },
  {
   "cell_type": "markdown",
   "id": "naked-wright",
   "metadata": {},
   "source": [
    "#### Scale measurement"
   ]
  },
  {
   "cell_type": "code",
   "execution_count": 163,
   "id": "compatible-structure",
   "metadata": {
    "scrolled": false
   },
   "outputs": [
    {
     "name": "stdout",
     "output_type": "stream",
     "text": [
      "<class 'pandas.core.frame.DataFrame'>\n",
      "RangeIndex: 123 entries, 0 to 122\n",
      "Data columns (total 12 columns):\n",
      " #   Column             Non-Null Count  Dtype  \n",
      "---  ------             --------------  -----  \n",
      " 0   Loan_ID            123 non-null    object \n",
      " 1   Gender             120 non-null    object \n",
      " 2   Married            121 non-null    object \n",
      " 3   Dependents         117 non-null    object \n",
      " 4   Education          123 non-null    object \n",
      " 5   Self_Employed      120 non-null    object \n",
      " 6   ApplicantIncome    123 non-null    int64  \n",
      " 7   CoapplicantIncome  123 non-null    float64\n",
      " 8   LoanAmount         117 non-null    float64\n",
      " 9   Loan_Amount_Term   122 non-null    float64\n",
      " 10  Credit_History     116 non-null    float64\n",
      " 11  Property_Area      123 non-null    object \n",
      "dtypes: float64(4), int64(1), object(7)\n",
      "memory usage: 11.7+ KB\n"
     ]
    }
   ],
   "source": [
    "# Data frame metadata\n",
    "df_test.info()"
   ]
  },
  {
   "cell_type": "code",
   "execution_count": 164,
   "id": "developing-gabriel",
   "metadata": {},
   "outputs": [
    {
     "data": {
      "text/plain": [
       "Loan_ID           object\n",
       "Gender            object\n",
       "Married           object\n",
       "Dependents        object\n",
       "Education         object\n",
       "Self_Employed     object\n",
       "Credit_History    object\n",
       "Property_Area     object\n",
       "dtype: object"
      ]
     },
     "execution_count": 164,
     "metadata": {},
     "output_type": "execute_result"
    }
   ],
   "source": [
    "# Change column types\n",
    "df_test = df_test.astype({'Credit_History': object})\n",
    "df_test.select_dtypes(include = ['object']).dtypes"
   ]
  },
  {
   "cell_type": "code",
   "execution_count": 165,
   "id": "friendly-chair",
   "metadata": {
    "scrolled": true
   },
   "outputs": [
    {
     "name": "stdout",
     "output_type": "stream",
     "text": [
      "LP002862    1\n",
      "LP001350    1\n",
      "LP001492    1\n",
      "LP002128    1\n",
      "LP001868    1\n",
      "           ..\n",
      "LP002933    1\n",
      "LP001109    1\n",
      "LP002984    1\n",
      "LP002328    1\n",
      "LP002515    1\n",
      "Name: Loan_ID, Length: 123, dtype: int64 \n",
      "\n",
      "Male      96\n",
      "Female    24\n",
      "Name: Gender, dtype: int64 \n",
      "\n",
      "Yes    74\n",
      "No     47\n",
      "Name: Married, dtype: int64 \n",
      "\n",
      "0     69\n",
      "2     23\n",
      "1     17\n",
      "3+     8\n",
      "Name: Dependents, dtype: int64 \n",
      "\n",
      "Graduate        92\n",
      "Not Graduate    31\n",
      "Name: Education, dtype: int64 \n",
      "\n",
      "No     102\n",
      "Yes     18\n",
      "Name: Self_Employed, dtype: int64 \n",
      "\n",
      "1.0    95\n",
      "0.0    21\n",
      "Name: Credit_History, dtype: int64 \n",
      "\n",
      "Urban        47\n",
      "Semiurban    47\n",
      "Rural        29\n",
      "Name: Property_Area, dtype: int64 \n",
      "\n"
     ]
    }
   ],
   "source": [
    "# Summary statistics of categorical columns\n",
    "for i in df_test.select_dtypes('object').columns:\n",
    "    print(df_test[i].value_counts(),'\\n')"
   ]
  },
  {
   "cell_type": "markdown",
   "id": "historical-light",
   "metadata": {},
   "source": [
    "#### Handle missing values"
   ]
  },
  {
   "cell_type": "code",
   "execution_count": 166,
   "id": "norman-quarter",
   "metadata": {},
   "outputs": [
    {
     "data": {
      "text/plain": [
       "Loan_ID              0\n",
       "Gender               3\n",
       "Married              2\n",
       "Dependents           6\n",
       "Education            0\n",
       "Self_Employed        3\n",
       "ApplicantIncome      0\n",
       "CoapplicantIncome    0\n",
       "LoanAmount           6\n",
       "Loan_Amount_Term     1\n",
       "Credit_History       7\n",
       "Property_Area        0\n",
       "dtype: int64"
      ]
     },
     "execution_count": 166,
     "metadata": {},
     "output_type": "execute_result"
    }
   ],
   "source": [
    "# Check missing values\n",
    "df_test.isna().sum()"
   ]
  },
  {
   "cell_type": "markdown",
   "id": "naked-member",
   "metadata": {},
   "source": [
    "##### `Dependents`"
   ]
  },
  {
   "cell_type": "code",
   "execution_count": 167,
   "id": "meaningful-exception",
   "metadata": {},
   "outputs": [
    {
     "name": "stdout",
     "output_type": "stream",
     "text": [
      "Number of missing values in Dependents is about 6 rows\n"
     ]
    }
   ],
   "source": [
    "print('Number of missing values in Dependents is about {} rows'.format(df_test['Dependents'].isna().sum()))"
   ]
  },
  {
   "cell_type": "code",
   "execution_count": 168,
   "id": "mysterious-digit",
   "metadata": {},
   "outputs": [],
   "source": [
    "# Replace missing values with \"0\"\n",
    "df_test['Dependents'].fillna(value = '0', inplace = True)"
   ]
  },
  {
   "cell_type": "markdown",
   "id": "outer-canal",
   "metadata": {},
   "source": [
    "##### `Self_Employed`"
   ]
  },
  {
   "cell_type": "code",
   "execution_count": 169,
   "id": "ready-lawyer",
   "metadata": {},
   "outputs": [
    {
     "name": "stdout",
     "output_type": "stream",
     "text": [
      "Number of missing values in Self_Employed is about 3 rows\n"
     ]
    }
   ],
   "source": [
    "print('Number of missing values in Self_Employed is about {} rows'.format(df_test['Self_Employed'].isna().sum()))"
   ]
  },
  {
   "cell_type": "code",
   "execution_count": 170,
   "id": "agricultural-brisbane",
   "metadata": {},
   "outputs": [],
   "source": [
    "# Replace missing values with \"No\"\n",
    "df_test['Self_Employed'].fillna(value = 'No', inplace = True) "
   ]
  },
  {
   "cell_type": "markdown",
   "id": "demanding-baseline",
   "metadata": {},
   "source": [
    "##### `Loan_Amount_Term`"
   ]
  },
  {
   "cell_type": "code",
   "execution_count": 171,
   "id": "genetic-motor",
   "metadata": {},
   "outputs": [],
   "source": [
    "# Replace missing values with \"360\"\n",
    "df_test['Loan_Amount_Term'].fillna(value = 360, inplace = True)"
   ]
  },
  {
   "cell_type": "markdown",
   "id": "thrown-performer",
   "metadata": {},
   "source": [
    "##### `Gender`, `Married`, `LoanAmount` and `Credit_History`"
   ]
  },
  {
   "cell_type": "code",
   "execution_count": 172,
   "id": "incomplete-asbestos",
   "metadata": {},
   "outputs": [],
   "source": [
    "# Drop missing values\n",
    "df_test.dropna(axis = 0, how = 'any', inplace = True)"
   ]
  },
  {
   "cell_type": "code",
   "execution_count": 173,
   "id": "neural-label",
   "metadata": {},
   "outputs": [
    {
     "data": {
      "text/plain": [
       "Loan_ID              0\n",
       "Gender               0\n",
       "Married              0\n",
       "Dependents           0\n",
       "Education            0\n",
       "Self_Employed        0\n",
       "ApplicantIncome      0\n",
       "CoapplicantIncome    0\n",
       "LoanAmount           0\n",
       "Loan_Amount_Term     0\n",
       "Credit_History       0\n",
       "Property_Area        0\n",
       "dtype: int64"
      ]
     },
     "execution_count": 173,
     "metadata": {},
     "output_type": "execute_result"
    }
   ],
   "source": [
    "# Check missing values\n",
    "df_test.isna().sum()"
   ]
  },
  {
   "cell_type": "markdown",
   "id": "pending-collectible",
   "metadata": {},
   "source": [
    "## Explanatory data analysis"
   ]
  },
  {
   "cell_type": "markdown",
   "id": "black-dragon",
   "metadata": {},
   "source": [
    "### The composition of default and not default customers"
   ]
  },
  {
   "cell_type": "code",
   "execution_count": 174,
   "id": "single-flight",
   "metadata": {},
   "outputs": [],
   "source": [
    "# Data aggregation between default and not default customers\n",
    "df_viz_1 = df_train.groupby(['Loan_Status'])['Loan_ID'].count().reset_index(name = 'Total')\n",
    "# Map the loan status\n",
    "df_viz_1['Loan_Status'] = df_viz_1['Loan_Status'].map(\n",
    "    {\n",
    "        0: 'Not default',\n",
    "        1: 'Default'\n",
    "    }\n",
    ")"
   ]
  },
  {
   "cell_type": "code",
   "execution_count": 175,
   "id": "considerable-stadium",
   "metadata": {},
   "outputs": [
    {
     "data": {
      "text/html": [
       "<div>\n",
       "<style scoped>\n",
       "    .dataframe tbody tr th:only-of-type {\n",
       "        vertical-align: middle;\n",
       "    }\n",
       "\n",
       "    .dataframe tbody tr th {\n",
       "        vertical-align: top;\n",
       "    }\n",
       "\n",
       "    .dataframe thead th {\n",
       "        text-align: right;\n",
       "    }\n",
       "</style>\n",
       "<table border=\"1\" class=\"dataframe\">\n",
       "  <thead>\n",
       "    <tr style=\"text-align: right;\">\n",
       "      <th></th>\n",
       "      <th>Loan_Status</th>\n",
       "      <th>Total</th>\n",
       "    </tr>\n",
       "  </thead>\n",
       "  <tbody>\n",
       "    <tr>\n",
       "      <th>0</th>\n",
       "      <td>Not default</td>\n",
       "      <td>134</td>\n",
       "    </tr>\n",
       "    <tr>\n",
       "      <th>1</th>\n",
       "      <td>Default</td>\n",
       "      <td>330</td>\n",
       "    </tr>\n",
       "  </tbody>\n",
       "</table>\n",
       "</div>"
      ],
      "text/plain": [
       "   Loan_Status  Total\n",
       "0  Not default    134\n",
       "1      Default    330"
      ]
     },
     "execution_count": 175,
     "metadata": {},
     "output_type": "execute_result"
    }
   ],
   "source": [
    "# Show the data\n",
    "df_viz_1"
   ]
  },
  {
   "cell_type": "code",
   "execution_count": 210,
   "id": "featured-healing",
   "metadata": {},
   "outputs": [
    {
     "data": {
      "image/png": "[encoded data removed]",
      "text/plain": [
       "<Figure size 460.8x345.6 with 1 Axes>"
      ]
     },
     "metadata": {},
     "output_type": "display_data"
    }
   ],
   "source": [
    "# Figure size\n",
    "plt.figure(figsize = (6.4,4.8))\n",
    "\n",
    "# Customize colors and other settings\n",
    "colors = ['#80797c','#981220']\n",
    "\n",
    "# Explode 1st slice\n",
    "explode = (0.1, 0)\n",
    "\n",
    "# Create a pie chart\n",
    "plt.pie(\n",
    "    x = 'Total',\n",
    "    labels = 'Loan_Status',\n",
    "    data = df_viz_1,\n",
    "    explode = explode,\n",
    "    colors = colors,\n",
    "    autopct = '%1.1f%%',\n",
    "    shadow = False,\n",
    "    startangle = 140\n",
    ")\n",
    "\n",
    "# Title and axis\n",
    "plt.title('Number of customers by loan status', fontsize = 18)\n",
    "plt.axis('equal')\n",
    "plt.show()"
   ]
  },
  {
   "cell_type": "markdown",
   "id": "velvet-clark",
   "metadata": {},
   "source": [
    "### The composition of loan status by the dependents"
   ]
  },
  {
   "cell_type": "code",
   "execution_count": 177,
   "id": "coral-liberty",
   "metadata": {},
   "outputs": [],
   "source": [
    "# Data aggregation between loan status and dependents\n",
    "df_viz_2 = df_train.groupby(['Loan_Status', 'Dependents'])['Loan_ID'].count().reset_index(name = 'Total')\n",
    "# Map the loan status\n",
    "df_viz_2['Loan_Status'] = df_viz_2['Loan_Status'].map(\n",
    "    {\n",
    "        0: 'Not default',\n",
    "        1: 'Default'\n",
    "    }\n",
    ")"
   ]
  },
  {
   "cell_type": "code",
   "execution_count": 178,
   "id": "limited-biotechnology",
   "metadata": {},
   "outputs": [
    {
     "data": {
      "text/html": [
       "<div>\n",
       "<style scoped>\n",
       "    .dataframe tbody tr th:only-of-type {\n",
       "        vertical-align: middle;\n",
       "    }\n",
       "\n",
       "    .dataframe tbody tr th {\n",
       "        vertical-align: top;\n",
       "    }\n",
       "\n",
       "    .dataframe thead th {\n",
       "        text-align: right;\n",
       "    }\n",
       "</style>\n",
       "<table border=\"1\" class=\"dataframe\">\n",
       "  <thead>\n",
       "    <tr style=\"text-align: right;\">\n",
       "      <th></th>\n",
       "      <th>Loan_Status</th>\n",
       "      <th>Dependents</th>\n",
       "      <th>Total</th>\n",
       "    </tr>\n",
       "  </thead>\n",
       "  <tbody>\n",
       "    <tr>\n",
       "      <th>0</th>\n",
       "      <td>Not default</td>\n",
       "      <td>0</td>\n",
       "      <td>77</td>\n",
       "    </tr>\n",
       "    <tr>\n",
       "      <th>1</th>\n",
       "      <td>Not default</td>\n",
       "      <td>1</td>\n",
       "      <td>30</td>\n",
       "    </tr>\n",
       "    <tr>\n",
       "      <th>2</th>\n",
       "      <td>Not default</td>\n",
       "      <td>2</td>\n",
       "      <td>13</td>\n",
       "    </tr>\n",
       "    <tr>\n",
       "      <th>3</th>\n",
       "      <td>Not default</td>\n",
       "      <td>3+</td>\n",
       "      <td>14</td>\n",
       "    </tr>\n",
       "    <tr>\n",
       "      <th>4</th>\n",
       "      <td>Default</td>\n",
       "      <td>0</td>\n",
       "      <td>191</td>\n",
       "    </tr>\n",
       "    <tr>\n",
       "      <th>5</th>\n",
       "      <td>Default</td>\n",
       "      <td>1</td>\n",
       "      <td>52</td>\n",
       "    </tr>\n",
       "    <tr>\n",
       "      <th>6</th>\n",
       "      <td>Default</td>\n",
       "      <td>2</td>\n",
       "      <td>62</td>\n",
       "    </tr>\n",
       "    <tr>\n",
       "      <th>7</th>\n",
       "      <td>Default</td>\n",
       "      <td>3+</td>\n",
       "      <td>25</td>\n",
       "    </tr>\n",
       "  </tbody>\n",
       "</table>\n",
       "</div>"
      ],
      "text/plain": [
       "   Loan_Status Dependents  Total\n",
       "0  Not default          0     77\n",
       "1  Not default          1     30\n",
       "2  Not default          2     13\n",
       "3  Not default         3+     14\n",
       "4      Default          0    191\n",
       "5      Default          1     52\n",
       "6      Default          2     62\n",
       "7      Default         3+     25"
      ]
     },
     "execution_count": 178,
     "metadata": {},
     "output_type": "execute_result"
    }
   ],
   "source": [
    "# Show the data\n",
    "df_viz_2"
   ]
  },
  {
   "cell_type": "code",
   "execution_count": 179,
   "id": "pending-joyce",
   "metadata": {},
   "outputs": [
    {
     "data": {
      "image/png": "[encoded data removed]",
      "text/plain": [
       "<Figure size 800x480 with 1 Axes>"
      ]
     },
     "metadata": {
      "needs_background": "light"
     },
     "output_type": "display_data"
    },
    {
     "data": {
      "text/plain": [
       "<ggplot: (80233892994)>"
      ]
     },
     "execution_count": 179,
     "metadata": {},
     "output_type": "execute_result"
    }
   ],
   "source": [
    "plotnine.options.figure_size = (8, 4.8)\n",
    "(\n",
    "    ggplot(\n",
    "        data = df_viz_2\n",
    "    )+\n",
    "    geom_bar(\n",
    "        aes(\n",
    "            x = 'Dependents',\n",
    "            y = 'Total',\n",
    "            fill = 'Loan_Status'\n",
    "        ),\n",
    "        stat = 'identity',\n",
    "        position = 'fill',\n",
    "        width = 0.5\n",
    "    )+\n",
    "    labs(\n",
    "        title = 'The composition of loan status by the dependents',\n",
    "        fill = 'Loan status'\n",
    "    )+\n",
    "    xlab(\n",
    "        'Dependents'\n",
    "    )+\n",
    "    ylab(\n",
    "        'Frequency'\n",
    "    )+\n",
    "    scale_x_discrete(\n",
    "        limits = ['0', '1', '2', '3+']\n",
    "    )+\n",
    "    scale_fill_manual(\n",
    "        values = ['#981220','#80797c'],\n",
    "        labels = ['Default', 'Not Default']\n",
    "    )+\n",
    "    theme_minimal()\n",
    ")"
   ]
  },
  {
   "cell_type": "markdown",
   "id": "dutch-haven",
   "metadata": {},
   "source": [
    "### The composition of default customer by the educations"
   ]
  },
  {
   "cell_type": "code",
   "execution_count": 180,
   "id": "nervous-likelihood",
   "metadata": {},
   "outputs": [],
   "source": [
    "# Data aggregation between loan status and dependents\n",
    "df_viz_3 = df_train.groupby(['Loan_Status', 'Education'])['Loan_ID'].count().reset_index(name = 'Total')\n",
    "# Map the loan status\n",
    "df_viz_3['Loan_Status'] = df_viz_3['Loan_Status'].map(\n",
    "    {\n",
    "        0: 'Not default',\n",
    "        1: 'Default'\n",
    "    }\n",
    ")"
   ]
  },
  {
   "cell_type": "code",
   "execution_count": 181,
   "id": "mechanical-expansion",
   "metadata": {},
   "outputs": [
    {
     "data": {
      "text/html": [
       "<div>\n",
       "<style scoped>\n",
       "    .dataframe tbody tr th:only-of-type {\n",
       "        vertical-align: middle;\n",
       "    }\n",
       "\n",
       "    .dataframe tbody tr th {\n",
       "        vertical-align: top;\n",
       "    }\n",
       "\n",
       "    .dataframe thead th {\n",
       "        text-align: right;\n",
       "    }\n",
       "</style>\n",
       "<table border=\"1\" class=\"dataframe\">\n",
       "  <thead>\n",
       "    <tr style=\"text-align: right;\">\n",
       "      <th></th>\n",
       "      <th>Loan_Status</th>\n",
       "      <th>Education</th>\n",
       "      <th>Total</th>\n",
       "    </tr>\n",
       "  </thead>\n",
       "  <tbody>\n",
       "    <tr>\n",
       "      <th>0</th>\n",
       "      <td>Not default</td>\n",
       "      <td>Graduate</td>\n",
       "      <td>101</td>\n",
       "    </tr>\n",
       "    <tr>\n",
       "      <th>1</th>\n",
       "      <td>Not default</td>\n",
       "      <td>Not Graduate</td>\n",
       "      <td>33</td>\n",
       "    </tr>\n",
       "    <tr>\n",
       "      <th>2</th>\n",
       "      <td>Default</td>\n",
       "      <td>Graduate</td>\n",
       "      <td>266</td>\n",
       "    </tr>\n",
       "    <tr>\n",
       "      <th>3</th>\n",
       "      <td>Default</td>\n",
       "      <td>Not Graduate</td>\n",
       "      <td>64</td>\n",
       "    </tr>\n",
       "  </tbody>\n",
       "</table>\n",
       "</div>"
      ],
      "text/plain": [
       "   Loan_Status     Education  Total\n",
       "0  Not default      Graduate    101\n",
       "1  Not default  Not Graduate     33\n",
       "2      Default      Graduate    266\n",
       "3      Default  Not Graduate     64"
      ]
     },
     "execution_count": 181,
     "metadata": {},
     "output_type": "execute_result"
    }
   ],
   "source": [
    "# Show the data\n",
    "df_viz_3"
   ]
  },
  {
   "cell_type": "code",
   "execution_count": 182,
   "id": "cross-johnston",
   "metadata": {
    "scrolled": false
   },
   "outputs": [
    {
     "data": {
      "image/png": "[encoded data removed]",
      "text/plain": [
       "<Figure size 800x480 with 1 Axes>"
      ]
     },
     "metadata": {
      "needs_background": "light"
     },
     "output_type": "display_data"
    },
    {
     "data": {
      "text/plain": [
       "<ggplot: (80234761253)>"
      ]
     },
     "execution_count": 182,
     "metadata": {},
     "output_type": "execute_result"
    }
   ],
   "source": [
    "plotnine.options.figure_size = (8, 4.8)\n",
    "(\n",
    "    ggplot(\n",
    "        data = df_viz_3\n",
    "    )+\n",
    "    geom_bar(\n",
    "        aes(\n",
    "            x = 'Education',\n",
    "            y = 'Total',\n",
    "            fill = 'Loan_Status'\n",
    "        ),\n",
    "        stat = 'identity',\n",
    "        position = 'fill',\n",
    "        width = 0.5\n",
    "    )+\n",
    "    labs(\n",
    "        title = 'The composition of loan status by the education',\n",
    "        fill = 'Loan status'\n",
    "    )+\n",
    "    xlab(\n",
    "        'Educations'\n",
    "    )+\n",
    "    ylab(\n",
    "        'Frequency'\n",
    "    )+\n",
    "    scale_x_discrete(\n",
    "        limits = ['Graduate', 'Not Graduate']\n",
    "    )+\n",
    "    scale_fill_manual(\n",
    "        values = ['#981220','#80797c'],\n",
    "        labels = ['Default', 'Not Default']\n",
    "    )+\n",
    "    theme_minimal()\n",
    ")"
   ]
  },
  {
   "cell_type": "markdown",
   "id": "operational-engine",
   "metadata": {},
   "source": [
    "### The distribution of applicant incomes by loan status"
   ]
  },
  {
   "cell_type": "code",
   "execution_count": 183,
   "id": "charged-trader",
   "metadata": {},
   "outputs": [],
   "source": [
    "# Slice the columns\n",
    "df_viz_4 = df_train[['ApplicantIncome', 'Loan_Status']].reset_index(drop = True)\n",
    "# Map the loan status\n",
    "df_viz_4['Loan_Status'] = df_viz_4['Loan_Status'].map(\n",
    "    {\n",
    "        0: 'Not default',\n",
    "        1: 'Default'\n",
    "    }\n",
    ")"
   ]
  },
  {
   "cell_type": "code",
   "execution_count": 184,
   "id": "strategic-tokyo",
   "metadata": {},
   "outputs": [
    {
     "data": {
      "text/html": [
       "<div>\n",
       "<style scoped>\n",
       "    .dataframe tbody tr th:only-of-type {\n",
       "        vertical-align: middle;\n",
       "    }\n",
       "\n",
       "    .dataframe tbody tr th {\n",
       "        vertical-align: top;\n",
       "    }\n",
       "\n",
       "    .dataframe thead th {\n",
       "        text-align: right;\n",
       "    }\n",
       "</style>\n",
       "<table border=\"1\" class=\"dataframe\">\n",
       "  <thead>\n",
       "    <tr style=\"text-align: right;\">\n",
       "      <th></th>\n",
       "      <th>ApplicantIncome</th>\n",
       "      <th>Loan_Status</th>\n",
       "    </tr>\n",
       "  </thead>\n",
       "  <tbody>\n",
       "    <tr>\n",
       "      <th>0</th>\n",
       "      <td>4547</td>\n",
       "      <td>Default</td>\n",
       "    </tr>\n",
       "    <tr>\n",
       "      <th>1</th>\n",
       "      <td>5703</td>\n",
       "      <td>Default</td>\n",
       "    </tr>\n",
       "    <tr>\n",
       "      <th>2</th>\n",
       "      <td>4333</td>\n",
       "      <td>Not default</td>\n",
       "    </tr>\n",
       "    <tr>\n",
       "      <th>3</th>\n",
       "      <td>4695</td>\n",
       "      <td>Default</td>\n",
       "    </tr>\n",
       "    <tr>\n",
       "      <th>4</th>\n",
       "      <td>6700</td>\n",
       "      <td>Default</td>\n",
       "    </tr>\n",
       "  </tbody>\n",
       "</table>\n",
       "</div>"
      ],
      "text/plain": [
       "   ApplicantIncome  Loan_Status\n",
       "0             4547      Default\n",
       "1             5703      Default\n",
       "2             4333  Not default\n",
       "3             4695      Default\n",
       "4             6700      Default"
      ]
     },
     "execution_count": 184,
     "metadata": {},
     "output_type": "execute_result"
    }
   ],
   "source": [
    "# Show the data\n",
    "df_viz_4.head()"
   ]
  },
  {
   "cell_type": "code",
   "execution_count": 185,
   "id": "figured-level",
   "metadata": {
    "scrolled": false
   },
   "outputs": [
    {
     "data": {
      "image/png": "[encoded data removed]",
      "text/plain": [
       "<Figure size 800x480 with 1 Axes>"
      ]
     },
     "metadata": {
      "needs_background": "light"
     },
     "output_type": "display_data"
    },
    {
     "data": {
      "text/plain": [
       "<ggplot: (80234767177)>"
      ]
     },
     "execution_count": 185,
     "metadata": {},
     "output_type": "execute_result"
    }
   ],
   "source": [
    "plotnine.options.figure_size = (8, 4.8)\n",
    "(\n",
    "    ggplot(\n",
    "        data = df_viz_4\n",
    "    )+\n",
    "    geom_density(\n",
    "        aes(\n",
    "            x = 'ApplicantIncome',\n",
    "            fill = 'Loan_Status'\n",
    "        ),\n",
    "        color = 'white',\n",
    "        alpha = 0.85\n",
    "    )+\n",
    "    labs(\n",
    "        title = 'The distribution of applicant incomes by loan status'\n",
    "    )+\n",
    "    scale_fill_manual(\n",
    "        name = 'Loan Status',\n",
    "        values = ['#981220','#80797c'],\n",
    "        labels = ['Default', 'Not Default']\n",
    "    )+\n",
    "    xlab(\n",
    "        'Applicant income'\n",
    "    )+\n",
    "    ylab(\n",
    "        'Density'\n",
    "    )+\n",
    "    theme_minimal()\n",
    ")"
   ]
  },
  {
   "cell_type": "markdown",
   "id": "antique-invalid",
   "metadata": {},
   "source": [
    "### The distribution of loan amount by loan status"
   ]
  },
  {
   "cell_type": "code",
   "execution_count": 186,
   "id": "scientific-cleaner",
   "metadata": {},
   "outputs": [],
   "source": [
    "# Slice the columns\n",
    "df_viz_5 = df_train[['LoanAmount', 'Loan_Status']].reset_index(drop = True)\n",
    "# Map the loan status\n",
    "df_viz_5['Loan_Status'] = df_viz_5['Loan_Status'].map(\n",
    "    {\n",
    "        0: 'Not default',\n",
    "        1: 'Default'\n",
    "    }\n",
    ")"
   ]
  },
  {
   "cell_type": "code",
   "execution_count": 187,
   "id": "legendary-medline",
   "metadata": {},
   "outputs": [
    {
     "data": {
      "text/html": [
       "<div>\n",
       "<style scoped>\n",
       "    .dataframe tbody tr th:only-of-type {\n",
       "        vertical-align: middle;\n",
       "    }\n",
       "\n",
       "    .dataframe tbody tr th {\n",
       "        vertical-align: top;\n",
       "    }\n",
       "\n",
       "    .dataframe thead th {\n",
       "        text-align: right;\n",
       "    }\n",
       "</style>\n",
       "<table border=\"1\" class=\"dataframe\">\n",
       "  <thead>\n",
       "    <tr style=\"text-align: right;\">\n",
       "      <th></th>\n",
       "      <th>LoanAmount</th>\n",
       "      <th>Loan_Status</th>\n",
       "    </tr>\n",
       "  </thead>\n",
       "  <tbody>\n",
       "    <tr>\n",
       "      <th>0</th>\n",
       "      <td>115.0</td>\n",
       "      <td>Default</td>\n",
       "    </tr>\n",
       "    <tr>\n",
       "      <th>1</th>\n",
       "      <td>130.0</td>\n",
       "      <td>Default</td>\n",
       "    </tr>\n",
       "    <tr>\n",
       "      <th>2</th>\n",
       "      <td>110.0</td>\n",
       "      <td>Not default</td>\n",
       "    </tr>\n",
       "    <tr>\n",
       "      <th>3</th>\n",
       "      <td>96.0</td>\n",
       "      <td>Default</td>\n",
       "    </tr>\n",
       "    <tr>\n",
       "      <th>4</th>\n",
       "      <td>230.0</td>\n",
       "      <td>Default</td>\n",
       "    </tr>\n",
       "  </tbody>\n",
       "</table>\n",
       "</div>"
      ],
      "text/plain": [
       "   LoanAmount  Loan_Status\n",
       "0       115.0      Default\n",
       "1       130.0      Default\n",
       "2       110.0  Not default\n",
       "3        96.0      Default\n",
       "4       230.0      Default"
      ]
     },
     "execution_count": 187,
     "metadata": {},
     "output_type": "execute_result"
    }
   ],
   "source": [
    "# Show the data\n",
    "df_viz_5.head()"
   ]
  },
  {
   "cell_type": "code",
   "execution_count": 188,
   "id": "overhead-guarantee",
   "metadata": {
    "scrolled": false
   },
   "outputs": [
    {
     "data": {
      "image/png": "[encoded data removed]",
      "text/plain": [
       "<Figure size 800x480 with 1 Axes>"
      ]
     },
     "metadata": {
      "needs_background": "light"
     },
     "output_type": "display_data"
    },
    {
     "data": {
      "text/plain": [
       "<ggplot: (80233503016)>"
      ]
     },
     "execution_count": 188,
     "metadata": {},
     "output_type": "execute_result"
    }
   ],
   "source": [
    "plotnine.options.figure_size = (8, 4.8)\n",
    "(\n",
    "    ggplot(\n",
    "        data = df_viz_5\n",
    "    )+\n",
    "    geom_density(\n",
    "        aes(\n",
    "            x = 'LoanAmount',\n",
    "            fill = 'Loan_Status'\n",
    "        ),\n",
    "        color = 'white',\n",
    "        alpha = 0.85\n",
    "    )+\n",
    "    labs(\n",
    "        title = 'The distribution of loan amount by loan status'\n",
    "    )+\n",
    "    scale_fill_manual(\n",
    "        name = 'Loan Status',\n",
    "        values = ['#981220','#80797c'],\n",
    "        labels = ['Default', 'Not Default']\n",
    "    )+\n",
    "    xlab(\n",
    "        'Loan amount'\n",
    "    )+\n",
    "    ylab(\n",
    "        'Density'\n",
    "    )+\n",
    "    theme_minimal()\n",
    ")"
   ]
  },
  {
   "cell_type": "markdown",
   "id": "expired-sussex",
   "metadata": {},
   "source": [
    "## One-hot encoder"
   ]
  },
  {
   "cell_type": "code",
   "execution_count": 189,
   "id": "manual-naples",
   "metadata": {},
   "outputs": [],
   "source": [
    "# Add new column of Loan_Status with 999 in testing data\n",
    "df_test['Loan_Status'] = 999\n",
    "# Concat the training and testing data\n",
    "df_concat = pd.concat(objs = [df_train , df_test], axis = 0)"
   ]
  },
  {
   "cell_type": "code",
   "execution_count": 190,
   "id": "moving-notice",
   "metadata": {},
   "outputs": [],
   "source": [
    "# Drop the column of Loan_ID\n",
    "df_concat.drop(columns = ['Loan_ID'], inplace = True)"
   ]
  },
  {
   "cell_type": "code",
   "execution_count": 191,
   "id": "transparent-constitution",
   "metadata": {
    "scrolled": false
   },
   "outputs": [
    {
     "name": "stdout",
     "output_type": "stream",
     "text": [
      "['Gender', 'Married', 'Dependents', 'Education', 'Self_Employed', 'Credit_History', 'Property_Area']\n"
     ]
    }
   ],
   "source": [
    "# Categorical columns\n",
    "cols_obj_train = ['Gender', 'Married', 'Dependents', 'Education', 'Self_Employed', 'Credit_History', 'Property_Area']\n",
    "print(cols_obj_train)"
   ]
  },
  {
   "cell_type": "code",
   "execution_count": 192,
   "id": "limited-accountability",
   "metadata": {
    "scrolled": true
   },
   "outputs": [
    {
     "name": "stdout",
     "output_type": "stream",
     "text": [
      "Dimension data: 570 rows and 15 columns\n"
     ]
    },
    {
     "data": {
      "text/html": [
       "<div>\n",
       "<style scoped>\n",
       "    .dataframe tbody tr th:only-of-type {\n",
       "        vertical-align: middle;\n",
       "    }\n",
       "\n",
       "    .dataframe tbody tr th {\n",
       "        vertical-align: top;\n",
       "    }\n",
       "\n",
       "    .dataframe thead th {\n",
       "        text-align: right;\n",
       "    }\n",
       "</style>\n",
       "<table border=\"1\" class=\"dataframe\">\n",
       "  <thead>\n",
       "    <tr style=\"text-align: right;\">\n",
       "      <th></th>\n",
       "      <th>ApplicantIncome</th>\n",
       "      <th>CoapplicantIncome</th>\n",
       "      <th>LoanAmount</th>\n",
       "      <th>Loan_Amount_Term</th>\n",
       "      <th>Loan_Status</th>\n",
       "      <th>Gender_Male</th>\n",
       "      <th>Married_Yes</th>\n",
       "      <th>Dependents_1</th>\n",
       "      <th>Dependents_2</th>\n",
       "      <th>Dependents_3+</th>\n",
       "      <th>Education_Not Graduate</th>\n",
       "      <th>Self_Employed_Yes</th>\n",
       "      <th>Credit_History_1.0</th>\n",
       "      <th>Property_Area_Semiurban</th>\n",
       "      <th>Property_Area_Urban</th>\n",
       "    </tr>\n",
       "  </thead>\n",
       "  <tbody>\n",
       "    <tr>\n",
       "      <th>0</th>\n",
       "      <td>4547</td>\n",
       "      <td>0.0</td>\n",
       "      <td>115.0</td>\n",
       "      <td>360.0</td>\n",
       "      <td>1</td>\n",
       "      <td>0</td>\n",
       "      <td>0</td>\n",
       "      <td>0</td>\n",
       "      <td>0</td>\n",
       "      <td>0</td>\n",
       "      <td>0</td>\n",
       "      <td>0</td>\n",
       "      <td>1</td>\n",
       "      <td>1</td>\n",
       "      <td>0</td>\n",
       "    </tr>\n",
       "    <tr>\n",
       "      <th>1</th>\n",
       "      <td>5703</td>\n",
       "      <td>0.0</td>\n",
       "      <td>130.0</td>\n",
       "      <td>360.0</td>\n",
       "      <td>1</td>\n",
       "      <td>1</td>\n",
       "      <td>1</td>\n",
       "      <td>0</td>\n",
       "      <td>0</td>\n",
       "      <td>1</td>\n",
       "      <td>1</td>\n",
       "      <td>1</td>\n",
       "      <td>1</td>\n",
       "      <td>0</td>\n",
       "      <td>0</td>\n",
       "    </tr>\n",
       "    <tr>\n",
       "      <th>2</th>\n",
       "      <td>4333</td>\n",
       "      <td>2451.0</td>\n",
       "      <td>110.0</td>\n",
       "      <td>360.0</td>\n",
       "      <td>0</td>\n",
       "      <td>0</td>\n",
       "      <td>1</td>\n",
       "      <td>0</td>\n",
       "      <td>0</td>\n",
       "      <td>0</td>\n",
       "      <td>0</td>\n",
       "      <td>0</td>\n",
       "      <td>1</td>\n",
       "      <td>0</td>\n",
       "      <td>1</td>\n",
       "    </tr>\n",
       "    <tr>\n",
       "      <th>3</th>\n",
       "      <td>4695</td>\n",
       "      <td>0.0</td>\n",
       "      <td>96.0</td>\n",
       "      <td>360.0</td>\n",
       "      <td>1</td>\n",
       "      <td>1</td>\n",
       "      <td>1</td>\n",
       "      <td>0</td>\n",
       "      <td>0</td>\n",
       "      <td>0</td>\n",
       "      <td>1</td>\n",
       "      <td>1</td>\n",
       "      <td>1</td>\n",
       "      <td>0</td>\n",
       "      <td>1</td>\n",
       "    </tr>\n",
       "    <tr>\n",
       "      <th>4</th>\n",
       "      <td>6700</td>\n",
       "      <td>1750.0</td>\n",
       "      <td>230.0</td>\n",
       "      <td>300.0</td>\n",
       "      <td>1</td>\n",
       "      <td>1</td>\n",
       "      <td>1</td>\n",
       "      <td>0</td>\n",
       "      <td>1</td>\n",
       "      <td>0</td>\n",
       "      <td>0</td>\n",
       "      <td>0</td>\n",
       "      <td>1</td>\n",
       "      <td>1</td>\n",
       "      <td>0</td>\n",
       "    </tr>\n",
       "  </tbody>\n",
       "</table>\n",
       "</div>"
      ],
      "text/plain": [
       "   ApplicantIncome  CoapplicantIncome  LoanAmount  Loan_Amount_Term  \\\n",
       "0             4547                0.0       115.0             360.0   \n",
       "1             5703                0.0       130.0             360.0   \n",
       "2             4333             2451.0       110.0             360.0   \n",
       "3             4695                0.0        96.0             360.0   \n",
       "4             6700             1750.0       230.0             300.0   \n",
       "\n",
       "   Loan_Status  Gender_Male  Married_Yes  Dependents_1  Dependents_2  \\\n",
       "0            1            0            0             0             0   \n",
       "1            1            1            1             0             0   \n",
       "2            0            0            1             0             0   \n",
       "3            1            1            1             0             0   \n",
       "4            1            1            1             0             1   \n",
       "\n",
       "   Dependents_3+  Education_Not Graduate  Self_Employed_Yes  \\\n",
       "0              0                       0                  0   \n",
       "1              1                       1                  1   \n",
       "2              0                       0                  0   \n",
       "3              0                       1                  1   \n",
       "4              0                       0                  0   \n",
       "\n",
       "   Credit_History_1.0  Property_Area_Semiurban  Property_Area_Urban  \n",
       "0                   1                        1                    0  \n",
       "1                   1                        0                    0  \n",
       "2                   1                        0                    1  \n",
       "3                   1                        0                    1  \n",
       "4                   1                        1                    0  "
      ]
     },
     "execution_count": 192,
     "metadata": {},
     "output_type": "execute_result"
    }
   ],
   "source": [
    "# One-hot encoding\n",
    "df_concat = pd.get_dummies(data = df_concat, columns = cols_obj_train, drop_first = True)\n",
    "print('Dimension data: {} rows and {} columns'.format(len(df_concat), len(df_concat.columns)))\n",
    "df_concat.head()"
   ]
  },
  {
   "cell_type": "markdown",
   "id": "studied-occasion",
   "metadata": {},
   "source": [
    "## Data partitioning"
   ]
  },
  {
   "cell_type": "code",
   "execution_count": 193,
   "id": "filled-lawyer",
   "metadata": {},
   "outputs": [
    {
     "data": {
      "text/plain": [
       "1      330\n",
       "0      134\n",
       "999    106\n",
       "Name: Loan_Status, dtype: int64"
      ]
     },
     "execution_count": 193,
     "metadata": {},
     "output_type": "execute_result"
    }
   ],
   "source": [
    "# Unique values of Loan_Status\n",
    "df_concat['Loan_Status'].value_counts()"
   ]
  },
  {
   "cell_type": "code",
   "execution_count": 194,
   "id": "automotive-collar",
   "metadata": {
    "scrolled": true
   },
   "outputs": [
    {
     "name": "stdout",
     "output_type": "stream",
     "text": [
      "Dimension data: 464 rows and 15 columns\n"
     ]
    },
    {
     "data": {
      "text/html": [
       "<div>\n",
       "<style scoped>\n",
       "    .dataframe tbody tr th:only-of-type {\n",
       "        vertical-align: middle;\n",
       "    }\n",
       "\n",
       "    .dataframe tbody tr th {\n",
       "        vertical-align: top;\n",
       "    }\n",
       "\n",
       "    .dataframe thead th {\n",
       "        text-align: right;\n",
       "    }\n",
       "</style>\n",
       "<table border=\"1\" class=\"dataframe\">\n",
       "  <thead>\n",
       "    <tr style=\"text-align: right;\">\n",
       "      <th></th>\n",
       "      <th>ApplicantIncome</th>\n",
       "      <th>CoapplicantIncome</th>\n",
       "      <th>LoanAmount</th>\n",
       "      <th>Loan_Amount_Term</th>\n",
       "      <th>Loan_Status</th>\n",
       "      <th>Gender_Male</th>\n",
       "      <th>Married_Yes</th>\n",
       "      <th>Dependents_1</th>\n",
       "      <th>Dependents_2</th>\n",
       "      <th>Dependents_3+</th>\n",
       "      <th>Education_Not Graduate</th>\n",
       "      <th>Self_Employed_Yes</th>\n",
       "      <th>Credit_History_1.0</th>\n",
       "      <th>Property_Area_Semiurban</th>\n",
       "      <th>Property_Area_Urban</th>\n",
       "    </tr>\n",
       "  </thead>\n",
       "  <tbody>\n",
       "    <tr>\n",
       "      <th>0</th>\n",
       "      <td>4547</td>\n",
       "      <td>0.0</td>\n",
       "      <td>115.0</td>\n",
       "      <td>360.0</td>\n",
       "      <td>1</td>\n",
       "      <td>0</td>\n",
       "      <td>0</td>\n",
       "      <td>0</td>\n",
       "      <td>0</td>\n",
       "      <td>0</td>\n",
       "      <td>0</td>\n",
       "      <td>0</td>\n",
       "      <td>1</td>\n",
       "      <td>1</td>\n",
       "      <td>0</td>\n",
       "    </tr>\n",
       "    <tr>\n",
       "      <th>1</th>\n",
       "      <td>5703</td>\n",
       "      <td>0.0</td>\n",
       "      <td>130.0</td>\n",
       "      <td>360.0</td>\n",
       "      <td>1</td>\n",
       "      <td>1</td>\n",
       "      <td>1</td>\n",
       "      <td>0</td>\n",
       "      <td>0</td>\n",
       "      <td>1</td>\n",
       "      <td>1</td>\n",
       "      <td>1</td>\n",
       "      <td>1</td>\n",
       "      <td>0</td>\n",
       "      <td>0</td>\n",
       "    </tr>\n",
       "    <tr>\n",
       "      <th>2</th>\n",
       "      <td>4333</td>\n",
       "      <td>2451.0</td>\n",
       "      <td>110.0</td>\n",
       "      <td>360.0</td>\n",
       "      <td>0</td>\n",
       "      <td>0</td>\n",
       "      <td>1</td>\n",
       "      <td>0</td>\n",
       "      <td>0</td>\n",
       "      <td>0</td>\n",
       "      <td>0</td>\n",
       "      <td>0</td>\n",
       "      <td>1</td>\n",
       "      <td>0</td>\n",
       "      <td>1</td>\n",
       "    </tr>\n",
       "    <tr>\n",
       "      <th>3</th>\n",
       "      <td>4695</td>\n",
       "      <td>0.0</td>\n",
       "      <td>96.0</td>\n",
       "      <td>360.0</td>\n",
       "      <td>1</td>\n",
       "      <td>1</td>\n",
       "      <td>1</td>\n",
       "      <td>0</td>\n",
       "      <td>0</td>\n",
       "      <td>0</td>\n",
       "      <td>1</td>\n",
       "      <td>1</td>\n",
       "      <td>1</td>\n",
       "      <td>0</td>\n",
       "      <td>1</td>\n",
       "    </tr>\n",
       "    <tr>\n",
       "      <th>4</th>\n",
       "      <td>6700</td>\n",
       "      <td>1750.0</td>\n",
       "      <td>230.0</td>\n",
       "      <td>300.0</td>\n",
       "      <td>1</td>\n",
       "      <td>1</td>\n",
       "      <td>1</td>\n",
       "      <td>0</td>\n",
       "      <td>1</td>\n",
       "      <td>0</td>\n",
       "      <td>0</td>\n",
       "      <td>0</td>\n",
       "      <td>1</td>\n",
       "      <td>1</td>\n",
       "      <td>0</td>\n",
       "    </tr>\n",
       "  </tbody>\n",
       "</table>\n",
       "</div>"
      ],
      "text/plain": [
       "   ApplicantIncome  CoapplicantIncome  LoanAmount  Loan_Amount_Term  \\\n",
       "0             4547                0.0       115.0             360.0   \n",
       "1             5703                0.0       130.0             360.0   \n",
       "2             4333             2451.0       110.0             360.0   \n",
       "3             4695                0.0        96.0             360.0   \n",
       "4             6700             1750.0       230.0             300.0   \n",
       "\n",
       "   Loan_Status  Gender_Male  Married_Yes  Dependents_1  Dependents_2  \\\n",
       "0            1            0            0             0             0   \n",
       "1            1            1            1             0             0   \n",
       "2            0            0            1             0             0   \n",
       "3            1            1            1             0             0   \n",
       "4            1            1            1             0             1   \n",
       "\n",
       "   Dependents_3+  Education_Not Graduate  Self_Employed_Yes  \\\n",
       "0              0                       0                  0   \n",
       "1              1                       1                  1   \n",
       "2              0                       0                  0   \n",
       "3              0                       1                  1   \n",
       "4              0                       0                  0   \n",
       "\n",
       "   Credit_History_1.0  Property_Area_Semiurban  Property_Area_Urban  \n",
       "0                   1                        1                    0  \n",
       "1                   1                        0                    0  \n",
       "2                   1                        0                    1  \n",
       "3                   1                        0                    1  \n",
       "4                   1                        1                    0  "
      ]
     },
     "execution_count": 194,
     "metadata": {},
     "output_type": "execute_result"
    }
   ],
   "source": [
    "# Training set\n",
    "df_train = df_concat[df_concat['Loan_Status'].isin([0, 1])].reset_index(drop = True)\n",
    "print('Dimension data: {} rows and {} columns'.format(len(df_train), len(df_train.columns)))\n",
    "df_train.head()"
   ]
  },
  {
   "cell_type": "code",
   "execution_count": 195,
   "id": "adequate-reality",
   "metadata": {
    "scrolled": true
   },
   "outputs": [
    {
     "name": "stdout",
     "output_type": "stream",
     "text": [
      "Data dimension: 106 rows and 15 columns\n"
     ]
    },
    {
     "data": {
      "text/html": [
       "<div>\n",
       "<style scoped>\n",
       "    .dataframe tbody tr th:only-of-type {\n",
       "        vertical-align: middle;\n",
       "    }\n",
       "\n",
       "    .dataframe tbody tr th {\n",
       "        vertical-align: top;\n",
       "    }\n",
       "\n",
       "    .dataframe thead th {\n",
       "        text-align: right;\n",
       "    }\n",
       "</style>\n",
       "<table border=\"1\" class=\"dataframe\">\n",
       "  <thead>\n",
       "    <tr style=\"text-align: right;\">\n",
       "      <th></th>\n",
       "      <th>ApplicantIncome</th>\n",
       "      <th>CoapplicantIncome</th>\n",
       "      <th>LoanAmount</th>\n",
       "      <th>Loan_Amount_Term</th>\n",
       "      <th>Loan_Status</th>\n",
       "      <th>Gender_Male</th>\n",
       "      <th>Married_Yes</th>\n",
       "      <th>Dependents_1</th>\n",
       "      <th>Dependents_2</th>\n",
       "      <th>Dependents_3+</th>\n",
       "      <th>Education_Not Graduate</th>\n",
       "      <th>Self_Employed_Yes</th>\n",
       "      <th>Credit_History_1.0</th>\n",
       "      <th>Property_Area_Semiurban</th>\n",
       "      <th>Property_Area_Urban</th>\n",
       "    </tr>\n",
       "  </thead>\n",
       "  <tbody>\n",
       "    <tr>\n",
       "      <th>0</th>\n",
       "      <td>3748</td>\n",
       "      <td>1668.0</td>\n",
       "      <td>110.0</td>\n",
       "      <td>360.0</td>\n",
       "      <td>999</td>\n",
       "      <td>1</td>\n",
       "      <td>0</td>\n",
       "      <td>0</td>\n",
       "      <td>0</td>\n",
       "      <td>0</td>\n",
       "      <td>1</td>\n",
       "      <td>0</td>\n",
       "      <td>1</td>\n",
       "      <td>1</td>\n",
       "      <td>0</td>\n",
       "    </tr>\n",
       "    <tr>\n",
       "      <th>1</th>\n",
       "      <td>4000</td>\n",
       "      <td>7750.0</td>\n",
       "      <td>290.0</td>\n",
       "      <td>360.0</td>\n",
       "      <td>999</td>\n",
       "      <td>1</td>\n",
       "      <td>1</td>\n",
       "      <td>0</td>\n",
       "      <td>0</td>\n",
       "      <td>1</td>\n",
       "      <td>0</td>\n",
       "      <td>0</td>\n",
       "      <td>1</td>\n",
       "      <td>1</td>\n",
       "      <td>0</td>\n",
       "    </tr>\n",
       "    <tr>\n",
       "      <th>2</th>\n",
       "      <td>2625</td>\n",
       "      <td>6250.0</td>\n",
       "      <td>187.0</td>\n",
       "      <td>360.0</td>\n",
       "      <td>999</td>\n",
       "      <td>1</td>\n",
       "      <td>1</td>\n",
       "      <td>0</td>\n",
       "      <td>0</td>\n",
       "      <td>0</td>\n",
       "      <td>0</td>\n",
       "      <td>0</td>\n",
       "      <td>1</td>\n",
       "      <td>0</td>\n",
       "      <td>0</td>\n",
       "    </tr>\n",
       "    <tr>\n",
       "      <th>3</th>\n",
       "      <td>3902</td>\n",
       "      <td>1666.0</td>\n",
       "      <td>109.0</td>\n",
       "      <td>360.0</td>\n",
       "      <td>999</td>\n",
       "      <td>1</td>\n",
       "      <td>0</td>\n",
       "      <td>0</td>\n",
       "      <td>0</td>\n",
       "      <td>0</td>\n",
       "      <td>1</td>\n",
       "      <td>0</td>\n",
       "      <td>1</td>\n",
       "      <td>0</td>\n",
       "      <td>0</td>\n",
       "    </tr>\n",
       "    <tr>\n",
       "      <th>4</th>\n",
       "      <td>6096</td>\n",
       "      <td>0.0</td>\n",
       "      <td>218.0</td>\n",
       "      <td>360.0</td>\n",
       "      <td>999</td>\n",
       "      <td>1</td>\n",
       "      <td>1</td>\n",
       "      <td>0</td>\n",
       "      <td>0</td>\n",
       "      <td>0</td>\n",
       "      <td>1</td>\n",
       "      <td>0</td>\n",
       "      <td>0</td>\n",
       "      <td>0</td>\n",
       "      <td>0</td>\n",
       "    </tr>\n",
       "  </tbody>\n",
       "</table>\n",
       "</div>"
      ],
      "text/plain": [
       "   ApplicantIncome  CoapplicantIncome  LoanAmount  Loan_Amount_Term  \\\n",
       "0             3748             1668.0       110.0             360.0   \n",
       "1             4000             7750.0       290.0             360.0   \n",
       "2             2625             6250.0       187.0             360.0   \n",
       "3             3902             1666.0       109.0             360.0   \n",
       "4             6096                0.0       218.0             360.0   \n",
       "\n",
       "   Loan_Status  Gender_Male  Married_Yes  Dependents_1  Dependents_2  \\\n",
       "0          999            1            0             0             0   \n",
       "1          999            1            1             0             0   \n",
       "2          999            1            1             0             0   \n",
       "3          999            1            0             0             0   \n",
       "4          999            1            1             0             0   \n",
       "\n",
       "   Dependents_3+  Education_Not Graduate  Self_Employed_Yes  \\\n",
       "0              0                       1                  0   \n",
       "1              1                       0                  0   \n",
       "2              0                       0                  0   \n",
       "3              0                       1                  0   \n",
       "4              0                       1                  0   \n",
       "\n",
       "   Credit_History_1.0  Property_Area_Semiurban  Property_Area_Urban  \n",
       "0                   1                        1                    0  \n",
       "1                   1                        1                    0  \n",
       "2                   1                        0                    0  \n",
       "3                   1                        0                    0  \n",
       "4                   0                        0                    0  "
      ]
     },
     "execution_count": 195,
     "metadata": {},
     "output_type": "execute_result"
    }
   ],
   "source": [
    "# Testing set\n",
    "df_test = df_concat[df_concat['Loan_Status'].isin([999])].reset_index(drop = True)\n",
    "print('Data dimension: {} rows and {} columns'.format(len(df_test), len(df_test.columns)))\n",
    "df_test.head()"
   ]
  },
  {
   "cell_type": "code",
   "execution_count": 196,
   "id": "variable-temperature",
   "metadata": {},
   "outputs": [
    {
     "name": "stdout",
     "output_type": "stream",
     "text": [
      "Data dimension of training set   : (324, 14)\n",
      "Data dimension of validation set : (140, 14)\n",
      "Data dimension of testing set    : (106, 14)\n"
     ]
    }
   ],
   "source": [
    "# Data partitioning >>> training set into training and validation\n",
    "df_train_final = df_train.reset_index(drop = True)\n",
    "X = df_train_final[df_train_final.columns[~df_train_final.columns.isin(['Loan_Status'])]]\n",
    "y = df_train_final['Loan_Status']\n",
    "\n",
    "# Training = 70% and validation = 30%\n",
    "X_train, X_val, y_train, y_val = train_test_split(X , y, test_size = 0.3, random_state = 42)\n",
    "print('Data dimension of training set   :', X_train.shape)\n",
    "print('Data dimension of validation set :', X_val.shape)\n",
    "\n",
    "# Testing set\n",
    "X_test = df_test[df_test.columns[~df_test.columns.isin(['Loan_Status'])]]\n",
    "print('Data dimension of testing set    :', X_test.shape)"
   ]
  },
  {
   "cell_type": "markdown",
   "id": "found-probability",
   "metadata": {},
   "source": [
    "## Machine learning model development"
   ]
  },
  {
   "cell_type": "code",
   "execution_count": 197,
   "id": "casual-niger",
   "metadata": {},
   "outputs": [],
   "source": [
    "# XGBoost model\n",
    "xgb_model = xgb.XGBClassifier(\n",
    "    objective = 'binary:logistic',\n",
    "    use_label_encoder = False\n",
    ")"
   ]
  },
  {
   "cell_type": "code",
   "execution_count": 198,
   "id": "latest-toner",
   "metadata": {},
   "outputs": [],
   "source": [
    "# Define parameter range \n",
    "params = {\n",
    "    'eta': np.arange(0.1, 0.26, 0.05),\n",
    "    'min_child_weight': np.arange(1, 5, 0.5).tolist(),\n",
    "    'gamma': [5],\n",
    "    'subsample': np.arange(0.5, 1.0, 0.11).tolist(),\n",
    "    'colsample_bytree': np.arange(0.5, 1.0, 0.11).tolist()\n",
    "}"
   ]
  },
  {
   "cell_type": "code",
   "execution_count": 199,
   "id": "vertical-indian",
   "metadata": {},
   "outputs": [],
   "source": [
    "# Make a scorer from a performance metric or loss function\n",
    "scorers = {\n",
    "    'f1_score': make_scorer(f1_score),\n",
    "    'precision_score': make_scorer(precision_score),\n",
    "    'recall_score': make_scorer(recall_score),\n",
    "    'accuracy_score': make_scorer(accuracy_score)\n",
    "}"
   ]
  },
  {
   "cell_type": "code",
   "execution_count": 200,
   "id": "fluid-invite",
   "metadata": {},
   "outputs": [],
   "source": [
    "# k-fold cross validation\n",
    "skf = KFold(n_splits = 10, shuffle = True)"
   ]
  },
  {
   "cell_type": "code",
   "execution_count": 201,
   "id": "human-bibliography",
   "metadata": {},
   "outputs": [],
   "source": [
    "# Set up the grid search CV\n",
    "grid = GridSearchCV(\n",
    "    estimator = xgb_model,\n",
    "    param_grid = params,\n",
    "    scoring = scorers,\n",
    "    n_jobs = -1,\n",
    "    cv = skf.split(X_train, np.array(y_train)),\n",
    "    refit = 'accuracy_score'\n",
    ")"
   ]
  },
  {
   "cell_type": "code",
   "execution_count": 202,
   "id": "advance-request",
   "metadata": {
    "scrolled": false
   },
   "outputs": [
    {
     "name": "stdout",
     "output_type": "stream",
     "text": [
      "[15:57:16] WARNING: C:/Users/Administrator/workspace/xgboost-win64_release_1.3.0/src/learner.cc:1061: Starting in XGBoost 1.3.0, the default evaluation metric used with the objective 'binary:logistic' was changed from 'error' to 'logloss'. Explicitly set eval_metric if you'd like to restore the old behavior.\n"
     ]
    },
    {
     "data": {
      "text/plain": [
       "GridSearchCV(cv=<generator object _BaseKFold.split at 0x0000012AE43D40B0>,\n",
       "             estimator=XGBClassifier(base_score=None, booster=None,\n",
       "                                     colsample_bylevel=None,\n",
       "                                     colsample_bynode=None,\n",
       "                                     colsample_bytree=None, gamma=None,\n",
       "                                     gpu_id=None, importance_type='gain',\n",
       "                                     interaction_constraints=None,\n",
       "                                     learning_rate=None, max_delta_step=None,\n",
       "                                     max_depth=None, min_child_weight=None,\n",
       "                                     missing=n...\n",
       "             param_grid={'colsample_bytree': [0.5, 0.61, 0.72, 0.83, 0.94],\n",
       "                         'eta': array([0.1 , 0.15, 0.2 , 0.25]), 'gamma': [5],\n",
       "                         'min_child_weight': [1.0, 1.5, 2.0, 2.5, 3.0, 3.5, 4.0,\n",
       "                                              4.5],\n",
       "                         'subsample': [0.5, 0.61, 0.72, 0.83, 0.94]},\n",
       "             refit='accuracy_score',\n",
       "             scoring={'accuracy_score': make_scorer(accuracy_score),\n",
       "                      'f1_score': make_scorer(f1_score),\n",
       "                      'precision_score': make_scorer(precision_score),\n",
       "                      'recall_score': make_scorer(recall_score)})"
      ]
     },
     "execution_count": 202,
     "metadata": {},
     "output_type": "execute_result"
    }
   ],
   "source": [
    "# Fit the model\n",
    "grid.fit(X = X_train, y = y_train)"
   ]
  },
  {
   "cell_type": "code",
   "execution_count": 203,
   "id": "saved-price",
   "metadata": {},
   "outputs": [
    {
     "data": {
      "text/plain": [
       "{'colsample_bytree': 0.72,\n",
       " 'eta': 0.15000000000000002,\n",
       " 'gamma': 5,\n",
       " 'min_child_weight': 1.5,\n",
       " 'subsample': 0.61}"
      ]
     },
     "execution_count": 203,
     "metadata": {},
     "output_type": "execute_result"
    }
   ],
   "source": [
    "# Best parameters\n",
    "grid.best_params_"
   ]
  },
  {
   "cell_type": "code",
   "execution_count": 204,
   "id": "major-tuesday",
   "metadata": {},
   "outputs": [],
   "source": [
    "# Create a prediction of training \n",
    "predicted = grid.predict(X_val)"
   ]
  },
  {
   "cell_type": "code",
   "execution_count": 205,
   "id": "damaged-offense",
   "metadata": {
    "scrolled": true
   },
   "outputs": [
    {
     "name": "stdout",
     "output_type": "stream",
     "text": [
      "Accuracy for baseline   :0.87143\n",
      "Recall for baseline     :0.84615\n",
      "Precision for baseline  :1.0\n",
      "F1 Score for baseline   :0.91667\n"
     ]
    }
   ],
   "source": [
    "# Model evaluation - training data\n",
    "accuracy_baseline = accuracy_score(predicted, np.array(y_val))\n",
    "recall_baseline = recall_score(predicted, np.array(y_val))\n",
    "precision_baseline = precision_score(predicted, np.array(y_val))\n",
    "f1_baseline = f1_score(predicted, np.array(y_val))\n",
    "\n",
    "print('Accuracy for baseline   :{}'.format(round(accuracy_baseline, 5)))\n",
    "print('Recall for baseline     :{}'.format(round(recall_baseline, 5)))\n",
    "print('Precision for baseline  :{}'.format(round(precision_baseline, 5)))\n",
    "print('F1 Score for baseline   :{}'.format(round(f1_baseline, 5)))"
   ]
  },
  {
   "cell_type": "markdown",
   "id": "iraqi-intersection",
   "metadata": {},
   "source": [
    "## Store the ML model"
   ]
  },
  {
   "cell_type": "code",
   "execution_count": 206,
   "id": "precious-discipline",
   "metadata": {},
   "outputs": [
    {
     "data": {
      "text/plain": [
       "['../bin/xgboostModel.pkl']"
      ]
     },
     "execution_count": 206,
     "metadata": {},
     "output_type": "execute_result"
    }
   ],
   "source": [
    "# Store the model into a pickle file\n",
    "filename = '../bin/xgboostModel.pkl'\n",
    "joblib.dump(grid.best_estimator_, filename)"
   ]
  }
 ],
 "metadata": {
  "kernelspec": {
   "display_name": "Python 3",
   "language": "python",
   "name": "python3"
  },
  "language_info": {
   "codemirror_mode": {
    "name": "ipython",
    "version": 3
   },
   "file_extension": ".py",
   "mimetype": "text/x-python",
   "name": "python",
   "nbconvert_exporter": "python",
   "pygments_lexer": "ipython3",
   "version": "3.9.9 (tags/v3.9.9:ccb0e6a, Nov 15 2021, 18:08:50) [MSC v.1929 64 bit (AMD64)]"
  },
  "vscode": {
   "interpreter": {
    "hash": "81794d4967e6c3204c66dcd87b604927b115b27c00565d3d43f05ba2f3a2cb0d"
   }
  }
 },
 "nbformat": 4,
 "nbformat_minor": 5
}
